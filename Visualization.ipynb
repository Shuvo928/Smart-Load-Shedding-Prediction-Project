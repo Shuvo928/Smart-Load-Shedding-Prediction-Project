{
 "cells": [
  {
   "cell_type": "markdown",
   "id": "9bc4007c",
   "metadata": {},
   "source": [
    "Importing the all necessary libraries:"
   ]
  },
  {
   "cell_type": "code",
   "execution_count": 13,
   "id": "8c6141f0",
   "metadata": {},
   "outputs": [],
   "source": [
    "import matplotlib.pyplot as plt\n",
    "%matplotlib inline\n",
    "import seaborn as sns\n",
    "sns.set() # Apply the default seaborn theme, scaling, and color palette\n",
    "\n",
    "import pandas as pd\n",
    "import numpy as np\n",
    "\n",
    "import warnings\n",
    "warnings.filterwarnings(\"ignore\")"
   ]
  },
  {
   "cell_type": "markdown",
   "id": "8c66a832",
   "metadata": {},
   "source": [
    "This dataset appears to represent monthly electricity billing records of customers from a specific area. It contains 34 columns and includes detailed information about each customer's electricity usage, billing, and payments."
   ]
  },
  {
   "cell_type": "markdown",
   "id": "d32a5539",
   "metadata": {},
   "source": [
    "Load the datasets"
   ]
  },
  {
   "cell_type": "code",
   "execution_count": 1,
   "id": "68142607",
   "metadata": {},
   "outputs": [
    {
     "name": "stderr",
     "output_type": "stream",
     "text": [
      "<>:4: SyntaxWarning: invalid escape sequence '\\G'\n",
      "<>:4: SyntaxWarning: invalid escape sequence '\\G'\n",
      "C:\\Users\\USER\\AppData\\Local\\Temp\\ipykernel_3788\\3951625316.py:4: SyntaxWarning: invalid escape sequence '\\G'\n",
      "  df = pd.read_csv(\"D:\\GitHub\\M6.csv\")\n",
      "C:\\Users\\USER\\AppData\\Local\\Temp\\ipykernel_3788\\3951625316.py:4: DtypeWarning: Columns (2,4,18,19,27) have mixed types. Specify dtype option on import or set low_memory=False.\n",
      "  df = pd.read_csv(\"D:\\GitHub\\M6.csv\")\n"
     ]
    }
   ],
   "source": [
    "import pandas as pd\n",
    "\n",
    "# Load the CSV file into a DataFrame\n",
    "df = pd.read_csv(\"D:\\GitHub\\M6.csv\")\n",
    "\n"
   ]
  },
  {
   "cell_type": "markdown",
   "id": "b5ad4074",
   "metadata": {},
   "source": [
    "## Display the 5 first  rows"
   ]
  },
  {
   "cell_type": "code",
   "execution_count": 2,
   "id": "798ad793",
   "metadata": {},
   "outputs": [
    {
     "data": {
      "text/html": [
       "<div>\n",
       "<style scoped>\n",
       "    .dataframe tbody tr th:only-of-type {\n",
       "        vertical-align: middle;\n",
       "    }\n",
       "\n",
       "    .dataframe tbody tr th {\n",
       "        vertical-align: top;\n",
       "    }\n",
       "\n",
       "    .dataframe thead th {\n",
       "        text-align: right;\n",
       "    }\n",
       "</style>\n",
       "<table border=\"1\" class=\"dataframe\">\n",
       "  <thead>\n",
       "    <tr style=\"text-align: right;\">\n",
       "      <th></th>\n",
       "      <th>LOC</th>\n",
       "      <th>CUST_NAM</th>\n",
       "      <th>F_H_NAME</th>\n",
       "      <th>CUST_NUM</th>\n",
       "      <th>A_C</th>\n",
       "      <th>ADDRESS</th>\n",
       "      <th>BOOK</th>\n",
       "      <th>BG</th>\n",
       "      <th>WALK_SEQ</th>\n",
       "      <th>METER_NO</th>\n",
       "      <th>...</th>\n",
       "      <th>CUR_M_BILL</th>\n",
       "      <th>PAY_DATE</th>\n",
       "      <th>PRIN_PAID</th>\n",
       "      <th>VAT_PAID</th>\n",
       "      <th>TOTAL_ADJ</th>\n",
       "      <th>PRN_BALANCE</th>\n",
       "      <th>VAT_BALANCE</th>\n",
       "      <th>LPS_BALANCE</th>\n",
       "      <th>TOTAL_BALANCE</th>\n",
       "      <th>TOTAL_BILL</th>\n",
       "    </tr>\n",
       "  </thead>\n",
       "  <tbody>\n",
       "    <tr>\n",
       "      <th>0</th>\n",
       "      <td>M6</td>\n",
       "      <td>MD.ALI  AKBAR  MOLLA</td>\n",
       "      <td>NaN</td>\n",
       "      <td>75900134</td>\n",
       "      <td>A/1632/77</td>\n",
       "      <td>NORTH  KOIRAKURI,,</td>\n",
       "      <td>H02</td>\n",
       "      <td>2</td>\n",
       "      <td>1,320.00</td>\n",
       "      <td>611008</td>\n",
       "      <td>...</td>\n",
       "      <td>1,574.94</td>\n",
       "      <td>05/11/2025 00:00:00</td>\n",
       "      <td>1,270.00</td>\n",
       "      <td>64.00</td>\n",
       "      <td>0.06</td>\n",
       "      <td>1,499.94</td>\n",
       "      <td>75.00</td>\n",
       "      <td>0.00</td>\n",
       "      <td>1,574.94</td>\n",
       "      <td>1,575.00</td>\n",
       "    </tr>\n",
       "    <tr>\n",
       "      <th>1</th>\n",
       "      <td>M6</td>\n",
       "      <td>MD.ABDUL  HAMID</td>\n",
       "      <td>NaN</td>\n",
       "      <td>75900149</td>\n",
       "      <td>A/1116/79</td>\n",
       "      <td>NORTH  KOIRAKURI,,</td>\n",
       "      <td>H02</td>\n",
       "      <td>2</td>\n",
       "      <td>1,350.00</td>\n",
       "      <td>377600</td>\n",
       "      <td>...</td>\n",
       "      <td>895.90</td>\n",
       "      <td>05/11/2025 00:00:00</td>\n",
       "      <td>500.00</td>\n",
       "      <td>25.00</td>\n",
       "      <td>0.10</td>\n",
       "      <td>852.90</td>\n",
       "      <td>43.00</td>\n",
       "      <td>0.00</td>\n",
       "      <td>895.90</td>\n",
       "      <td>896.00</td>\n",
       "    </tr>\n",
       "    <tr>\n",
       "      <th>2</th>\n",
       "      <td>M6</td>\n",
       "      <td>ABDUL  BARI</td>\n",
       "      <td>NaN</td>\n",
       "      <td>75900153</td>\n",
       "      <td>A/1178/80</td>\n",
       "      <td>NORTH  KOIRAKURI,,</td>\n",
       "      <td>H02</td>\n",
       "      <td>2</td>\n",
       "      <td>1,360.00</td>\n",
       "      <td>557275</td>\n",
       "      <td>...</td>\n",
       "      <td>1,379.70</td>\n",
       "      <td>05/12/2025 00:00:00</td>\n",
       "      <td>1,289.00</td>\n",
       "      <td>65.00</td>\n",
       "      <td>0.30</td>\n",
       "      <td>1,313.70</td>\n",
       "      <td>66.00</td>\n",
       "      <td>0.00</td>\n",
       "      <td>1,379.70</td>\n",
       "      <td>1,380.00</td>\n",
       "    </tr>\n",
       "    <tr>\n",
       "      <th>3</th>\n",
       "      <td>M6</td>\n",
       "      <td>MD.ISMAIL  HOSSAIN</td>\n",
       "      <td>NaN</td>\n",
       "      <td>75900168</td>\n",
       "      <td>A/1049/81</td>\n",
       "      <td>NORTH  KOIRAKURI,,</td>\n",
       "      <td>H02</td>\n",
       "      <td>2</td>\n",
       "      <td>1,370.00</td>\n",
       "      <td>188176</td>\n",
       "      <td>...</td>\n",
       "      <td>408.08</td>\n",
       "      <td>05/12/2025 00:00:00</td>\n",
       "      <td>957.00</td>\n",
       "      <td>47.00</td>\n",
       "      <td>-0.08</td>\n",
       "      <td>389.08</td>\n",
       "      <td>19.00</td>\n",
       "      <td>0.00</td>\n",
       "      <td>408.08</td>\n",
       "      <td>408.00</td>\n",
       "    </tr>\n",
       "    <tr>\n",
       "      <th>4</th>\n",
       "      <td>M6</td>\n",
       "      <td>MD.MAFIZ  UDDIN</td>\n",
       "      <td>NaN</td>\n",
       "      <td>75900172</td>\n",
       "      <td>A/1368/82</td>\n",
       "      <td>NORTH  KOIRAKURI,,</td>\n",
       "      <td>H02</td>\n",
       "      <td>2</td>\n",
       "      <td>1,380.00</td>\n",
       "      <td>203266</td>\n",
       "      <td>...</td>\n",
       "      <td>1,463.68</td>\n",
       "      <td>05/12/2025 00:00:00</td>\n",
       "      <td>4,750.00</td>\n",
       "      <td>250.00</td>\n",
       "      <td>0.32</td>\n",
       "      <td>4,844.12</td>\n",
       "      <td>231.00</td>\n",
       "      <td>336.56</td>\n",
       "      <td>5,411.68</td>\n",
       "      <td>5,412.00</td>\n",
       "    </tr>\n",
       "  </tbody>\n",
       "</table>\n",
       "<p>5 rows × 34 columns</p>\n",
       "</div>"
      ],
      "text/plain": [
       "  LOC              CUST_NAM F_H_NAME  CUST_NUM        A_C             ADDRESS  \\\n",
       "0  M6  MD.ALI  AKBAR  MOLLA      NaN  75900134  A/1632/77  NORTH  KOIRAKURI,,   \n",
       "1  M6       MD.ABDUL  HAMID      NaN  75900149  A/1116/79  NORTH  KOIRAKURI,,   \n",
       "2  M6           ABDUL  BARI      NaN  75900153  A/1178/80  NORTH  KOIRAKURI,,   \n",
       "3  M6    MD.ISMAIL  HOSSAIN      NaN  75900168  A/1049/81  NORTH  KOIRAKURI,,   \n",
       "4  M6       MD.MAFIZ  UDDIN      NaN  75900172  A/1368/82  NORTH  KOIRAKURI,,   \n",
       "\n",
       "  BOOK  BG  WALK_SEQ METER_NO  ...  CUR_M_BILL             PAY_DATE  \\\n",
       "0  H02   2  1,320.00   611008  ...    1,574.94  05/11/2025 00:00:00   \n",
       "1  H02   2  1,350.00   377600  ...      895.90  05/11/2025 00:00:00   \n",
       "2  H02   2  1,360.00   557275  ...    1,379.70  05/12/2025 00:00:00   \n",
       "3  H02   2  1,370.00   188176  ...      408.08  05/12/2025 00:00:00   \n",
       "4  H02   2  1,380.00   203266  ...    1,463.68  05/12/2025 00:00:00   \n",
       "\n",
       "   PRIN_PAID  VAT_PAID TOTAL_ADJ PRN_BALANCE  VAT_BALANCE LPS_BALANCE  \\\n",
       "0   1,270.00     64.00      0.06    1,499.94        75.00        0.00   \n",
       "1     500.00     25.00      0.10      852.90        43.00        0.00   \n",
       "2   1,289.00     65.00      0.30    1,313.70        66.00        0.00   \n",
       "3     957.00     47.00     -0.08      389.08        19.00        0.00   \n",
       "4   4,750.00    250.00      0.32    4,844.12       231.00      336.56   \n",
       "\n",
       "  TOTAL_BALANCE TOTAL_BILL  \n",
       "0      1,574.94   1,575.00  \n",
       "1        895.90     896.00  \n",
       "2      1,379.70   1,380.00  \n",
       "3        408.08     408.00  \n",
       "4      5,411.68   5,412.00  \n",
       "\n",
       "[5 rows x 34 columns]"
      ]
     },
     "execution_count": 2,
     "metadata": {},
     "output_type": "execute_result"
    }
   ],
   "source": [
    "df.head()"
   ]
  },
  {
   "cell_type": "code",
   "execution_count": 17,
   "id": "9f2f8122",
   "metadata": {},
   "outputs": [
    {
     "data": {
      "text/plain": [
       "Index(['LOC', 'CUST_NAM', 'F_H_NAME', 'CUST_NUM', 'A_C', 'ADDRESS', 'BOOK',\n",
       "       'BG', 'WALK_SEQ', 'METER_NO', 'ME_PHASE', 'S_LOAD', 'C_LOAD',\n",
       "       'METER_COND', 'OMF', 'CATAGORY', 'BILL_MONTH', 'C_SR_RED', 'C_OFPK_RED',\n",
       "       'C_PK_RED', 'TO_UNIT', 'CUR_M_PRIN', 'CUR_LPS', 'CUR_VAT', 'CUR_M_BILL',\n",
       "       'PAY_DATE', 'PRIN_PAID', 'VAT_PAID', 'TOTAL_ADJ', 'PRN_BALANCE',\n",
       "       'VAT_BALANCE', 'LPS_BALANCE', 'TOTAL_BALANCE', 'TOTAL_BILL'],\n",
       "      dtype='object')"
      ]
     },
     "execution_count": 17,
     "metadata": {},
     "output_type": "execute_result"
    }
   ],
   "source": [
    "df.columns"
   ]
  },
  {
   "cell_type": "code",
   "execution_count": 4,
   "id": "5bb8f429",
   "metadata": {},
   "outputs": [
    {
     "name": "stdout",
     "output_type": "stream",
     "text": [
      "<class 'pandas.core.frame.DataFrame'>\n",
      "RangeIndex: 16714 entries, 0 to 16713\n",
      "Data columns (total 34 columns):\n",
      " #   Column         Non-Null Count  Dtype  \n",
      "---  ------         --------------  -----  \n",
      " 0   LOC            16714 non-null  object \n",
      " 1   CUST_NAM       16714 non-null  object \n",
      " 2   F_H_NAME       334 non-null    object \n",
      " 3   CUST_NUM       16714 non-null  int64  \n",
      " 4   A_C            16713 non-null  object \n",
      " 5   ADDRESS        16714 non-null  object \n",
      " 6   BOOK           16714 non-null  object \n",
      " 7   BG             16714 non-null  int64  \n",
      " 8   WALK_SEQ       16714 non-null  object \n",
      " 9   METER_NO       16714 non-null  object \n",
      " 10  ME_PHASE       14726 non-null  float64\n",
      " 11  S_LOAD         16714 non-null  float64\n",
      " 12  C_LOAD         16714 non-null  float64\n",
      " 13  METER_COND     14726 non-null  float64\n",
      " 14  OMF            16714 non-null  object \n",
      " 15  CATAGORY       16714 non-null  object \n",
      " 16  BILL_MONTH     16714 non-null  int64  \n",
      " 17  C_SR_RED       13690 non-null  object \n",
      " 18  C_OFPK_RED     23 non-null     object \n",
      " 19  C_PK_RED       65 non-null     object \n",
      " 20  TO_UNIT        16714 non-null  object \n",
      " 21  CUR_M_PRIN     16714 non-null  object \n",
      " 22  CUR_LPS        16714 non-null  object \n",
      " 23  CUR_VAT        16714 non-null  object \n",
      " 24  CUR_M_BILL     16714 non-null  object \n",
      " 25  PAY_DATE       8229 non-null   object \n",
      " 26  PRIN_PAID      16714 non-null  object \n",
      " 27  VAT_PAID       16714 non-null  object \n",
      " 28  TOTAL_ADJ      16714 non-null  object \n",
      " 29  PRN_BALANCE    16714 non-null  object \n",
      " 30  VAT_BALANCE    16714 non-null  object \n",
      " 31  LPS_BALANCE    16714 non-null  object \n",
      " 32  TOTAL_BALANCE  16714 non-null  object \n",
      " 33  TOTAL_BILL     16714 non-null  object \n",
      "dtypes: float64(4), int64(3), object(27)\n",
      "memory usage: 4.3+ MB\n"
     ]
    }
   ],
   "source": [
    "df.info()"
   ]
  },
  {
   "cell_type": "markdown",
   "id": "187039de",
   "metadata": {},
   "source": [
    " Variable Identification"
   ]
  },
  {
   "cell_type": "code",
   "execution_count": 3,
   "id": "ae81546e",
   "metadata": {},
   "outputs": [
    {
     "data": {
      "text/plain": [
       "LOC               object\n",
       "CUST_NAM          object\n",
       "F_H_NAME          object\n",
       "CUST_NUM           int64\n",
       "A_C               object\n",
       "ADDRESS           object\n",
       "BOOK              object\n",
       "BG                 int64\n",
       "WALK_SEQ          object\n",
       "METER_NO          object\n",
       "ME_PHASE         float64\n",
       "S_LOAD           float64\n",
       "C_LOAD           float64\n",
       "METER_COND       float64\n",
       "OMF               object\n",
       "CATAGORY          object\n",
       "BILL_MONTH         int64\n",
       "C_SR_RED          object\n",
       "C_OFPK_RED        object\n",
       "C_PK_RED          object\n",
       "TO_UNIT           object\n",
       "CUR_M_PRIN        object\n",
       "CUR_LPS           object\n",
       "CUR_VAT           object\n",
       "CUR_M_BILL        object\n",
       "PAY_DATE          object\n",
       "PRIN_PAID         object\n",
       "VAT_PAID          object\n",
       "TOTAL_ADJ         object\n",
       "PRN_BALANCE       object\n",
       "VAT_BALANCE       object\n",
       "LPS_BALANCE       object\n",
       "TOTAL_BALANCE     object\n",
       "TOTAL_BILL        object\n",
       "dtype: object"
      ]
     },
     "execution_count": 3,
     "metadata": {},
     "output_type": "execute_result"
    }
   ],
   "source": [
    "df.dtypes"
   ]
  },
  {
   "cell_type": "markdown",
   "id": "b721bb1f",
   "metadata": {},
   "source": [
    " List of Numerical Columns and Categorical Columns"
   ]
  },
  {
   "cell_type": "code",
   "execution_count": 18,
   "id": "b28f94a2",
   "metadata": {},
   "outputs": [
    {
     "name": "stdout",
     "output_type": "stream",
     "text": [
      "\n",
      "🔢 Numerical Columns:\n",
      " ['CUST_NUM', 'BG', 'ME_PHASE', 'S_LOAD', 'C_LOAD', 'METER_COND', 'BILL_MONTH']\n",
      "\n",
      "🔠 Categorical Columns:\n",
      " ['LOC', 'CUST_NAM', 'F_H_NAME', 'A_C', 'ADDRESS', 'BOOK', 'WALK_SEQ', 'METER_NO', 'OMF', 'CATAGORY', 'C_SR_RED', 'C_OFPK_RED', 'C_PK_RED', 'TO_UNIT', 'CUR_M_PRIN', 'CUR_LPS', 'CUR_VAT', 'CUR_M_BILL', 'PAY_DATE', 'PRIN_PAID', 'VAT_PAID', 'TOTAL_ADJ', 'PRN_BALANCE', 'VAT_BALANCE', 'LPS_BALANCE', 'TOTAL_BALANCE', 'TOTAL_BILL']\n"
     ]
    }
   ],
   "source": [
    "# 2. List of Numerical Columns\n",
    "numerical_cols = df.select_dtypes(include=['int64', 'float64']).columns.tolist()\n",
    "print(\"\\n🔢 Numerical Columns:\\n\", numerical_cols)\n",
    "\n",
    "# 3. List of Categorical Columns\n",
    "categorical_cols = df.select_dtypes(include=['object']).columns.tolist()\n",
    "print(\"\\n🔠 Categorical Columns:\\n\", categorical_cols)"
   ]
  },
  {
   "cell_type": "code",
   "execution_count": null,
   "id": "13454a77",
   "metadata": {},
   "outputs": [],
   "source": [
    "import matplotlib.pyplot as plt\n",
    "%matplotlib inline\n",
    "import seaborn as sns\n",
    "sns.set() # Apply the default seaborn theme, scaling, and color palette\n",
    "\n",
    "import pandas as pd\n",
    "import numpy as np\n",
    "\n",
    "import warnings\n",
    "warnings.filterwarnings(\"ignore\")"
   ]
  },
  {
   "cell_type": "code",
   "execution_count": 6,
   "id": "d519aac3",
   "metadata": {},
   "outputs": [
    {
     "data": {
      "text/html": [
       "<div>\n",
       "<style scoped>\n",
       "    .dataframe tbody tr th:only-of-type {\n",
       "        vertical-align: middle;\n",
       "    }\n",
       "\n",
       "    .dataframe tbody tr th {\n",
       "        vertical-align: top;\n",
       "    }\n",
       "\n",
       "    .dataframe thead th {\n",
       "        text-align: right;\n",
       "    }\n",
       "</style>\n",
       "<table border=\"1\" class=\"dataframe\">\n",
       "  <thead>\n",
       "    <tr style=\"text-align: right;\">\n",
       "      <th></th>\n",
       "      <th>CUST_NUM</th>\n",
       "      <th>BG</th>\n",
       "      <th>ME_PHASE</th>\n",
       "      <th>S_LOAD</th>\n",
       "      <th>C_LOAD</th>\n",
       "      <th>METER_COND</th>\n",
       "      <th>BILL_MONTH</th>\n",
       "    </tr>\n",
       "  </thead>\n",
       "  <tbody>\n",
       "    <tr>\n",
       "      <th>count</th>\n",
       "      <td>1.671400e+04</td>\n",
       "      <td>16714.000000</td>\n",
       "      <td>14726.000000</td>\n",
       "      <td>16714.000000</td>\n",
       "      <td>16714.000000</td>\n",
       "      <td>14726.000000</td>\n",
       "      <td>16714.0</td>\n",
       "    </tr>\n",
       "    <tr>\n",
       "      <th>mean</th>\n",
       "      <td>8.076452e+07</td>\n",
       "      <td>7.820330</td>\n",
       "      <td>1.028657</td>\n",
       "      <td>2.436341</td>\n",
       "      <td>2.436101</td>\n",
       "      <td>0.363439</td>\n",
       "      <td>202505.0</td>\n",
       "    </tr>\n",
       "    <tr>\n",
       "      <th>std</th>\n",
       "      <td>6.550674e+06</td>\n",
       "      <td>3.483698</td>\n",
       "      <td>0.237689</td>\n",
       "      <td>9.294850</td>\n",
       "      <td>9.294854</td>\n",
       "      <td>2.142415</td>\n",
       "      <td>0.0</td>\n",
       "    </tr>\n",
       "    <tr>\n",
       "      <th>min</th>\n",
       "      <td>7.590013e+07</td>\n",
       "      <td>2.000000</td>\n",
       "      <td>1.000000</td>\n",
       "      <td>1.000000</td>\n",
       "      <td>1.000000</td>\n",
       "      <td>0.000000</td>\n",
       "      <td>202505.0</td>\n",
       "    </tr>\n",
       "    <tr>\n",
       "      <th>25%</th>\n",
       "      <td>7.595106e+07</td>\n",
       "      <td>4.000000</td>\n",
       "      <td>1.000000</td>\n",
       "      <td>2.000000</td>\n",
       "      <td>2.000000</td>\n",
       "      <td>0.000000</td>\n",
       "      <td>202505.0</td>\n",
       "    </tr>\n",
       "    <tr>\n",
       "      <th>50%</th>\n",
       "      <td>7.675105e+07</td>\n",
       "      <td>8.000000</td>\n",
       "      <td>1.000000</td>\n",
       "      <td>2.000000</td>\n",
       "      <td>2.000000</td>\n",
       "      <td>0.000000</td>\n",
       "      <td>202505.0</td>\n",
       "    </tr>\n",
       "    <tr>\n",
       "      <th>75%</th>\n",
       "      <td>9.036187e+07</td>\n",
       "      <td>10.000000</td>\n",
       "      <td>1.000000</td>\n",
       "      <td>2.000000</td>\n",
       "      <td>2.000000</td>\n",
       "      <td>0.000000</td>\n",
       "      <td>202505.0</td>\n",
       "    </tr>\n",
       "    <tr>\n",
       "      <th>max</th>\n",
       "      <td>9.126218e+07</td>\n",
       "      <td>22.000000</td>\n",
       "      <td>3.000000</td>\n",
       "      <td>800.000000</td>\n",
       "      <td>800.000000</td>\n",
       "      <td>13.000000</td>\n",
       "      <td>202505.0</td>\n",
       "    </tr>\n",
       "  </tbody>\n",
       "</table>\n",
       "</div>"
      ],
      "text/plain": [
       "           CUST_NUM            BG      ME_PHASE        S_LOAD        C_LOAD  \\\n",
       "count  1.671400e+04  16714.000000  14726.000000  16714.000000  16714.000000   \n",
       "mean   8.076452e+07      7.820330      1.028657      2.436341      2.436101   \n",
       "std    6.550674e+06      3.483698      0.237689      9.294850      9.294854   \n",
       "min    7.590013e+07      2.000000      1.000000      1.000000      1.000000   \n",
       "25%    7.595106e+07      4.000000      1.000000      2.000000      2.000000   \n",
       "50%    7.675105e+07      8.000000      1.000000      2.000000      2.000000   \n",
       "75%    9.036187e+07     10.000000      1.000000      2.000000      2.000000   \n",
       "max    9.126218e+07     22.000000      3.000000    800.000000    800.000000   \n",
       "\n",
       "         METER_COND  BILL_MONTH  \n",
       "count  14726.000000     16714.0  \n",
       "mean       0.363439    202505.0  \n",
       "std        2.142415         0.0  \n",
       "min        0.000000    202505.0  \n",
       "25%        0.000000    202505.0  \n",
       "50%        0.000000    202505.0  \n",
       "75%        0.000000    202505.0  \n",
       "max       13.000000    202505.0  "
      ]
     },
     "execution_count": 6,
     "metadata": {},
     "output_type": "execute_result"
    }
   ],
   "source": [
    "df.describe()"
   ]
  },
  {
   "cell_type": "code",
   "execution_count": 7,
   "id": "6ef55d45",
   "metadata": {},
   "outputs": [
    {
     "data": {
      "text/plain": [
       "LOC                  0\n",
       "CUST_NAM             0\n",
       "F_H_NAME         16380\n",
       "CUST_NUM             0\n",
       "A_C                  1\n",
       "ADDRESS              0\n",
       "BOOK                 0\n",
       "BG                   0\n",
       "WALK_SEQ             0\n",
       "METER_NO             0\n",
       "ME_PHASE          1988\n",
       "S_LOAD               0\n",
       "C_LOAD               0\n",
       "METER_COND        1988\n",
       "OMF                  0\n",
       "CATAGORY             0\n",
       "BILL_MONTH           0\n",
       "C_SR_RED          3024\n",
       "C_OFPK_RED       16691\n",
       "C_PK_RED         16649\n",
       "TO_UNIT              0\n",
       "CUR_M_PRIN           0\n",
       "CUR_LPS              0\n",
       "CUR_VAT              0\n",
       "CUR_M_BILL           0\n",
       "PAY_DATE          8485\n",
       "PRIN_PAID            0\n",
       "VAT_PAID             0\n",
       "TOTAL_ADJ            0\n",
       "PRN_BALANCE          0\n",
       "VAT_BALANCE          0\n",
       "LPS_BALANCE          0\n",
       "TOTAL_BALANCE        0\n",
       "TOTAL_BILL           0\n",
       "dtype: int64"
      ]
     },
     "execution_count": 7,
     "metadata": {},
     "output_type": "execute_result"
    }
   ],
   "source": [
    "# Check for missing values\n",
    "df.isnull().sum()"
   ]
  },
  {
   "cell_type": "markdown",
   "id": "66ab24e8",
   "metadata": {},
   "source": [
    "Missing Value Summary:"
   ]
  },
  {
   "cell_type": "markdown",
   "id": "89220e15",
   "metadata": {},
   "source": [
    "| Column       | Missing Values | Comment                                 |\n",
    "| ------------ | -------------- | --------------------------------------- |\n",
    "| `C_SR_RED`   | 3,024          | Moderate missing (usable)               |\n",
    "| `C_OFPK_RED` | 16,691         | High missing (\\~majority)               |\n",
    "| `C_PK_RED`   | 16,649         | High missing (\\~majority)               |\n",
    "| `METER_COND` | 1,988          | Moderate, might be categorical          |\n",
    "| `ME_PHASE`   | 1,988          | Moderate, likely numerical |\n",
    "    F_H_NAME         16380          not much important"
   ]
  },
  {
   "cell_type": "markdown",
   "id": "fd62f3fc",
   "metadata": {},
   "source": [
    "| Column Name  |  Meaning                                              |\n",
    "| ------------ | ------------------------------------------------------------- |\n",
    "| `C_SR_RED`   | **Shoulder Reading** – electricity used in shoulder hours     |\n",
    "| `C_OFPK_RED` | **Off-Peak Reading** – electricity used during off-peak hours |\n",
    "| `C_PK_RED`   | **Peak Reading** – electricity used during peak hours         |\n",
    "These are typically sub-components of total energy usage (TO_UNIT), and all values are likely in kilowatt-hours (kWh)."
   ]
  },
  {
   "cell_type": "code",
   "execution_count": 8,
   "id": "1fc0b84a",
   "metadata": {},
   "outputs": [
    {
     "data": {
      "text/plain": [
       "Index(['LOC', 'CUST_NAM', 'F_H_NAME', 'CUST_NUM', 'A_C', 'ADDRESS', 'BOOK',\n",
       "       'BG', 'WALK_SEQ', 'METER_NO', 'ME_PHASE', 'S_LOAD', 'C_LOAD',\n",
       "       'METER_COND', 'OMF', 'CATAGORY', 'BILL_MONTH', 'C_SR_RED', 'C_OFPK_RED',\n",
       "       'C_PK_RED', 'TO_UNIT', 'CUR_M_PRIN', 'CUR_LPS', 'CUR_VAT', 'CUR_M_BILL',\n",
       "       'PAY_DATE', 'PRIN_PAID', 'VAT_PAID', 'TOTAL_ADJ', 'PRN_BALANCE',\n",
       "       'VAT_BALANCE', 'LPS_BALANCE', 'TOTAL_BALANCE', 'TOTAL_BILL'],\n",
       "      dtype='object')"
      ]
     },
     "execution_count": 8,
     "metadata": {},
     "output_type": "execute_result"
    }
   ],
   "source": [
    "df.columns"
   ]
  },
  {
   "cell_type": "markdown",
   "id": "23b82e14",
   "metadata": {},
   "source": [
    "  List of columns to check for missing values %"
   ]
  },
  {
   "cell_type": "code",
   "execution_count": 10,
   "id": "0674ba43",
   "metadata": {},
   "outputs": [
    {
     "name": "stdout",
     "output_type": "stream",
     "text": [
      "📋 Missing Value Summary:\n",
      "\n",
      "C_SR_RED       : 3024 missing (18.09%)\n",
      "C_OFPK_RED     : 16691 missing (99.86%)\n",
      "C_PK_RED       : 16649 missing (99.61%)\n",
      "METER_COND     : 1988 missing (11.89%)\n",
      "ME_PHASE       : 1988 missing (11.89%)\n"
     ]
    }
   ],
   "source": [
    "# List of columns to check for missing values\n",
    "columns_to_check = ['C_SR_RED', 'C_OFPK_RED', 'C_PK_RED', 'METER_COND', 'ME_PHASE']\n",
    "\n",
    "# Print missing value count and percentage\n",
    "print(\"📋 Missing Value Summary:\\n\")\n",
    "total_rows = len(df)\n",
    "\n",
    "for col in columns_to_check:\n",
    "    missing_count = df[col].isna().sum()\n",
    "    missing_percent = (missing_count / total_rows) * 100\n",
    "    print(f\"{col:<15}: {missing_count} missing ({missing_percent:.2f}%)\")"
   ]
  },
  {
   "cell_type": "markdown",
   "id": "d73e8a16",
   "metadata": {},
   "source": [
    "using Bar chart of missing value %"
   ]
  },
  {
   "cell_type": "code",
   "execution_count": 15,
   "id": "57f48717",
   "metadata": {},
   "outputs": [
    {
     "data": {
      "image/png": "[encoded data removed]",
      "text/plain": [
       "<Figure size 800x400 with 1 Axes>"
      ]
     },
     "metadata": {},
     "output_type": "display_data"
    }
   ],
   "source": [
    "# Calculate missing value percentage for the selected columns\n",
    "missing_percent = df[columns_to_check].isnull().sum() / total_rows * 100\n",
    "\n",
    "plt.figure(figsize=(8, 4))\n",
    "sns.barplot(x=missing_percent.index, y=missing_percent.values, palette='rocket')\n",
    "plt.title('📊 Percentage of Missing Values by Column')\n",
    "plt.ylabel('Missing %')\n",
    "plt.xlabel('Column')\n",
    "plt.xticks(rotation=45)\n",
    "plt.tight_layout()\n",
    "plt.show()"
   ]
  },
  {
   "cell_type": "markdown",
   "id": "d4b6ae53",
   "metadata": {},
   "source": [
    "A heatmap showing which rows have missing values (in yellow)"
   ]
  },
  {
   "cell_type": "code",
   "execution_count": 16,
   "id": "f2d12da3",
   "metadata": {},
   "outputs": [
    {
     "data": {
      "image/png": "[encoded data removed]",
      "text/plain": [
       "<Figure size 1200x600 with 1 Axes>"
      ]
     },
     "metadata": {},
     "output_type": "display_data"
    }
   ],
   "source": [
    "plt.figure(figsize=(12, 6))\n",
    "sns.heatmap(df[columns_to_check].isnull(), cbar=False, cmap='cividis', yticklabels=False)\n",
    "plt.title('Heatmap of Missing Values (Yellow = Missing)')\n",
    "plt.xlabel('Columns')\n",
    "plt.ylabel('Rows')\n",
    "plt.show()"
   ]
  },
  {
   "cell_type": "markdown",
   "id": "e6be329c",
   "metadata": {},
   "source": [
    "Drop two column C_OFPK_RED, C_PK_RED"
   ]
  },
  {
   "cell_type": "code",
   "execution_count": null,
   "id": "30ca5088",
   "metadata": {},
   "outputs": [],
   "source": [
    "df.drop(['C_OFPK_RED', 'C_PK_RED'], axis=1, inplace=True)"
   ]
  },
  {
   "cell_type": "code",
   "execution_count": 22,
   "id": "67290ec9",
   "metadata": {},
   "outputs": [
    {
     "data": {
      "text/plain": [
       "Index(['LOC', 'CUST_NAM', 'F_H_NAME', 'CUST_NUM', 'A_C', 'ADDRESS', 'BOOK',\n",
       "       'BG', 'WALK_SEQ', 'METER_NO', 'ME_PHASE', 'S_LOAD', 'C_LOAD',\n",
       "       'METER_COND', 'OMF', 'CATAGORY', 'BILL_MONTH', 'C_SR_RED', 'TO_UNIT',\n",
       "       'CUR_M_PRIN', 'CUR_LPS', 'CUR_VAT', 'CUR_M_BILL', 'PAY_DATE',\n",
       "       'PRIN_PAID', 'VAT_PAID', 'TOTAL_ADJ', 'PRN_BALANCE', 'VAT_BALANCE',\n",
       "       'LPS_BALANCE', 'TOTAL_BALANCE', 'TOTAL_BILL'],\n",
       "      dtype='object')"
      ]
     },
     "execution_count": 22,
     "metadata": {},
     "output_type": "execute_result"
    }
   ],
   "source": [
    "df.columns"
   ]
  },
  {
   "cell_type": "markdown",
   "id": "e4feac7f",
   "metadata": {},
   "source": [
    "Missing value treatment of others column"
   ]
  },
  {
   "cell_type": "markdown",
   "id": "e7b709dc",
   "metadata": {},
   "source": [
    "column C_SR_RED is object, not numerical yet.  Convert C_SR_RED to Numeric Properly"
   ]
  },
  {
   "cell_type": "code",
   "execution_count": 25,
   "id": "a2d86ec7",
   "metadata": {},
   "outputs": [
    {
     "data": {
      "text/plain": [
       "0    13533.0\n",
       "1    12740.0\n",
       "2    18890.0\n",
       "3     9037.0\n",
       "4    17907.0\n",
       "Name: C_SR_RED, dtype: float64"
      ]
     },
     "execution_count": 25,
     "metadata": {},
     "output_type": "execute_result"
    }
   ],
   "source": [
    "# Convert 'C_SR_RED' to numeric, coercing errors (e.g., commas, non-numeric values become NaN)\n",
    "df['C_SR_RED'] = pd.to_numeric(df['C_SR_RED'].str.replace(',', ''), errors='coerce')\n",
    "# Check the result\n",
    "df['C_SR_RED'].head()"
   ]
  },
  {
   "cell_type": "markdown",
   "id": "e8a2e888",
   "metadata": {},
   "source": [
    "Fill missing values in 'C_SR_RED' with the mean"
   ]
  },
  {
   "cell_type": "code",
   "execution_count": 26,
   "id": "095db7e0",
   "metadata": {},
   "outputs": [],
   "source": [
    "# Fill missing values in 'C_SR_RED' with the mean\n",
    "df['C_SR_RED'].fillna(df['C_SR_RED'].mean(), inplace=True)"
   ]
  },
  {
   "cell_type": "markdown",
   "id": "ffed10a7",
   "metadata": {},
   "source": [
    "Fill missing values in 'METER_COND' and 'ME_PHASE' with the mode"
   ]
  },
  {
   "cell_type": "code",
   "execution_count": 27,
   "id": "9e833d25",
   "metadata": {},
   "outputs": [],
   "source": [
    "# Fill missing values in 'METER_COND' with the mode\n",
    "df['METER_COND'].fillna(df['METER_COND'].mode()[0], inplace=True)\n",
    "# Fill missing values in 'ME_PHASE' with the mode\n",
    "df['ME_PHASE'].fillna(df['ME_PHASE'].mode()[0], inplace=True)"
   ]
  },
  {
   "cell_type": "code",
   "execution_count": 29,
   "id": "50183d77",
   "metadata": {},
   "outputs": [
    {
     "name": "stdout",
     "output_type": "stream",
     "text": [
      "\n",
      "📋 Missing Values After Imputation:\n",
      " F_H_NAME    16380\n",
      "A_C             1\n",
      "PAY_DATE     8485\n",
      "dtype: int64\n"
     ]
    }
   ],
   "source": [
    "# Verify that there are no more missing values\n",
    "missing_values_after = df.isnull().sum()\n",
    "print(\"\\n📋 Missing Values After Imputation:\\n\", missing_values_after[missing_values_after > 0])"
   ]
  },
  {
   "cell_type": "code",
   "execution_count": 30,
   "id": "e04c86ae",
   "metadata": {},
   "outputs": [],
   "source": [
    "df.drop('F_H_NAME', axis=1, inplace=True)"
   ]
  },
  {
   "cell_type": "code",
   "execution_count": 31,
   "id": "62739738",
   "metadata": {},
   "outputs": [
    {
     "name": "stdout",
     "output_type": "stream",
     "text": [
      "object\n"
     ]
    }
   ],
   "source": [
    "print(df['PAY_DATE'].dtype)\n"
   ]
  },
  {
   "cell_type": "code",
   "execution_count": 32,
   "id": "b022ea89",
   "metadata": {},
   "outputs": [],
   "source": [
    "# Convert 'PAY_DATE' to datetime format\n",
    "df['PAY_DATE'] = pd.to_datetime(df['PAY_DATE'], errors='coerce')"
   ]
  },
  {
   "cell_type": "code",
   "execution_count": 33,
   "id": "f529ef39",
   "metadata": {},
   "outputs": [
    {
     "name": "stdout",
     "output_type": "stream",
     "text": [
      "datetime64[ns]\n"
     ]
    }
   ],
   "source": [
    "print(df['PAY_DATE'].dtype)"
   ]
  },
  {
   "cell_type": "markdown",
   "id": "e499e8ad",
   "metadata": {},
   "source": [
    "Create a Missing Indicator Column\n",
    "Keep the original missing values but create a boolean flag:"
   ]
  },
  {
   "cell_type": "code",
   "execution_count": 34,
   "id": "250350a9",
   "metadata": {},
   "outputs": [
    {
     "data": {
      "text/html": [
       "<div>\n",
       "<style scoped>\n",
       "    .dataframe tbody tr th:only-of-type {\n",
       "        vertical-align: middle;\n",
       "    }\n",
       "\n",
       "    .dataframe tbody tr th {\n",
       "        vertical-align: top;\n",
       "    }\n",
       "\n",
       "    .dataframe thead th {\n",
       "        text-align: right;\n",
       "    }\n",
       "</style>\n",
       "<table border=\"1\" class=\"dataframe\">\n",
       "  <thead>\n",
       "    <tr style=\"text-align: right;\">\n",
       "      <th></th>\n",
       "      <th>PAY_DATE</th>\n",
       "      <th>PAY_DATE_missing</th>\n",
       "    </tr>\n",
       "  </thead>\n",
       "  <tbody>\n",
       "    <tr>\n",
       "      <th>0</th>\n",
       "      <td>2025-05-11</td>\n",
       "      <td>False</td>\n",
       "    </tr>\n",
       "    <tr>\n",
       "      <th>1</th>\n",
       "      <td>2025-05-11</td>\n",
       "      <td>False</td>\n",
       "    </tr>\n",
       "    <tr>\n",
       "      <th>2</th>\n",
       "      <td>2025-05-12</td>\n",
       "      <td>False</td>\n",
       "    </tr>\n",
       "    <tr>\n",
       "      <th>3</th>\n",
       "      <td>2025-05-12</td>\n",
       "      <td>False</td>\n",
       "    </tr>\n",
       "    <tr>\n",
       "      <th>4</th>\n",
       "      <td>2025-05-12</td>\n",
       "      <td>False</td>\n",
       "    </tr>\n",
       "  </tbody>\n",
       "</table>\n",
       "</div>"
      ],
      "text/plain": [
       "    PAY_DATE  PAY_DATE_missing\n",
       "0 2025-05-11             False\n",
       "1 2025-05-11             False\n",
       "2 2025-05-12             False\n",
       "3 2025-05-12             False\n",
       "4 2025-05-12             False"
      ]
     },
     "execution_count": 34,
     "metadata": {},
     "output_type": "execute_result"
    }
   ],
   "source": [
    "# Create a missing indicator column for 'PAY_DATE'\n",
    "df['PAY_DATE_missing'] = df['PAY_DATE'].isnull()\n",
    "df[['PAY_DATE', 'PAY_DATE_missing']].head()"
   ]
  },
  {
   "cell_type": "code",
   "execution_count": 35,
   "id": "afbb8bbe",
   "metadata": {},
   "outputs": [
    {
     "data": {
      "text/plain": [
       "LOC                    0\n",
       "CUST_NAM               0\n",
       "CUST_NUM               0\n",
       "A_C                    1\n",
       "ADDRESS                0\n",
       "BOOK                   0\n",
       "BG                     0\n",
       "WALK_SEQ               0\n",
       "METER_NO               0\n",
       "ME_PHASE               0\n",
       "S_LOAD                 0\n",
       "C_LOAD                 0\n",
       "METER_COND             0\n",
       "OMF                    0\n",
       "CATAGORY               0\n",
       "BILL_MONTH             0\n",
       "C_SR_RED               0\n",
       "TO_UNIT                0\n",
       "CUR_M_PRIN             0\n",
       "CUR_LPS                0\n",
       "CUR_VAT                0\n",
       "CUR_M_BILL             0\n",
       "PAY_DATE            8485\n",
       "PRIN_PAID              0\n",
       "VAT_PAID               0\n",
       "TOTAL_ADJ              0\n",
       "PRN_BALANCE            0\n",
       "VAT_BALANCE            0\n",
       "LPS_BALANCE            0\n",
       "TOTAL_BALANCE          0\n",
       "TOTAL_BILL             0\n",
       "PAY_DATE_missing       0\n",
       "dtype: int64"
      ]
     },
     "execution_count": 35,
     "metadata": {},
     "output_type": "execute_result"
    }
   ],
   "source": [
    "# Check for missing values\n",
    "df.isnull().sum()\n"
   ]
  },
  {
   "cell_type": "code",
   "execution_count": 36,
   "id": "0d8e63ff",
   "metadata": {},
   "outputs": [
    {
     "name": "stdout",
     "output_type": "stream",
     "text": [
      "Number of duplicate rows: 0\n"
     ]
    }
   ],
   "source": [
    "# Check for duplicate rows in the DataFrame\n",
    "duplicate_count = df.duplicated().sum()\n",
    "print(f\"Number of duplicate rows: {duplicate_count}\")"
   ]
  },
  {
   "cell_type": "markdown",
   "id": "31b98128",
   "metadata": {},
   "source": [
    "Many numeric columns are stored as strings . Convert them:"
   ]
  },
  {
   "cell_type": "code",
   "execution_count": 38,
   "id": "fa52fd42",
   "metadata": {},
   "outputs": [
    {
     "name": "stdout",
     "output_type": "stream",
     "text": [
      "Converted CUR_M_PRIN to float.\n",
      "Converted CUR_LPS to float.\n",
      "Converted CUR_VAT to float.\n",
      "Converted CUR_M_BILL to float.\n",
      "Converted PRIN_PAID to float.\n",
      "Converted VAT_PAID to float.\n",
      "Converted TOTAL_ADJ to float.\n",
      "Converted PRN_BALANCE to float.\n",
      "Converted VAT_BALANCE to float.\n",
      "Converted LPS_BALANCE to float.\n",
      "Converted TOTAL_BALANCE to float.\n",
      "Converted TOTAL_BILL to float.\n"
     ]
    }
   ],
   "source": [
    "cols_to_convert = ['CUR_M_PRIN', 'CUR_LPS', 'CUR_VAT', 'CUR_M_BILL', 'PRIN_PAID',\n",
    "                   'VAT_PAID', 'TOTAL_ADJ', 'PRN_BALANCE', 'VAT_BALANCE',\n",
    "                   'LPS_BALANCE', 'TOTAL_BALANCE', 'TOTAL_BILL']\n",
    "\n",
    "for col in cols_to_convert:\n",
    "    df[col] = df[col].astype(str).str.replace(',', '').astype(float)\n",
    "    print(f\"Converted {col} to float.\")\n"
   ]
  },
  {
   "cell_type": "markdown",
   "id": "e16b7f71",
   "metadata": {},
   "source": [
    " performs feature engineering and creates two new columns: NET_BILL and PAID_RATIO.\n",
    " NET_BILL tells how much is left to be paid\n",
    "PAID_RATIO above 1 means more was paid than the bill \n",
    "PRIN_PAID = the part of the payment that covers only the electricity usage charge."
   ]
  },
  {
   "cell_type": "code",
   "execution_count": 40,
   "id": "352ff9f1",
   "metadata": {},
   "outputs": [
    {
     "name": "stdout",
     "output_type": "stream",
     "text": [
      "   TOTAL_BILL  PRIN_PAID  NET_BILL  PAID_RATIO\n",
      "0      1575.0     1270.0     305.0    0.806349\n",
      "1       896.0      500.0     396.0    0.558036\n",
      "2      1380.0     1289.0      91.0    0.934058\n",
      "3       408.0      957.0    -549.0    2.345588\n",
      "4      5412.0     4750.0     662.0    0.877679\n"
     ]
    }
   ],
   "source": [
    "df['NET_BILL'] = df['TOTAL_BILL'] - df['PRIN_PAID']\n",
    "df['PAID_RATIO'] = df['PRIN_PAID'] / df['TOTAL_BILL']\n",
    "\n",
    "# Display first 5 rows of the new features\n",
    "print(df[['TOTAL_BILL', 'PRIN_PAID', 'NET_BILL', 'PAID_RATIO']].head())"
   ]
  },
  {
   "cell_type": "markdown",
   "id": "b1c00a41",
   "metadata": {},
   "source": [
    "show me How much money is still unpaid"
   ]
  },
  {
   "cell_type": "code",
   "execution_count": 44,
   "id": "def26883",
   "metadata": {},
   "outputs": [
    {
     "data": {
      "image/png": "[encoded data removed]",
      "text/plain": [
       "<Figure size 1200x600 with 1 Axes>"
      ]
     },
     "metadata": {},
     "output_type": "display_data"
    }
   ],
   "source": [
    "# Calculate paid amount for each customer\n",
    "paid_per_customer = df.groupby('CUST_NAM')['PRIN_PAID'].sum().reset_index()\n",
    "paid_per_customer = paid_per_customer.rename(columns={'PRIN_PAID': 'Total_Paid'})\n",
    "\n",
    "# Merge unpaid and paid amounts\n",
    "customer_payment = unpaid_per_customer.merge(paid_per_customer, on='CUST_NAM', how='left')\n",
    "\n",
    "# Plot\n",
    "plt.figure(figsize=(12, 6))\n",
    "customer_payment_sorted = customer_payment.sort_values('Total_Unpaid', ascending=False).head(20)  # Top 20 for clarity\n",
    "\n",
    "bar_width = 0.4\n",
    "x = np.arange(len(customer_payment_sorted['CUST_NAM']))\n",
    "\n",
    "plt.bar(x - bar_width/2, customer_payment_sorted['Total_Unpaid'], width=bar_width, label='Unpaid Amount')\n",
    "plt.bar(x + bar_width/2, customer_payment_sorted['Total_Paid'], width=bar_width, label='Paid Amount')\n",
    "\n",
    "plt.xlabel('Customer Name')\n",
    "plt.ylabel('Amount')\n",
    "plt.title('Top 20 Customers: Unpaid vs Paid Amount')\n",
    "plt.xticks(x, customer_payment_sorted['CUST_NAM'], rotation=90)\n",
    "plt.legend()\n",
    "plt.tight_layout()\n",
    "plt.show()"
   ]
  }
 ],
 "metadata": {
  "kernelspec": {
   "display_name": ".venv",
   "language": "python",
   "name": "python3"
  },
  "language_info": {
   "codemirror_mode": {
    "name": "ipython",
    "version": 3
   },
   "file_extension": ".py",
   "mimetype": "text/x-python",
   "name": "python",
   "nbconvert_exporter": "python",
   "pygments_lexer": "ipython3",
   "version": "3.12.10"
  }
 },
 "nbformat": 4,
 "nbformat_minor": 5
}
